{
 "cells": [
  {
   "cell_type": "code",
   "execution_count": 6,
   "metadata": {},
   "outputs": [],
   "source": [
    "import pandas as pd\n",
    "import numpy as np\n",
    "import matplotlib.pyplot as plt\n",
    "import seaborn as sns\n",
    "import matplotlib.pyplot as plt\n",
    "\n",
    "from sklearn.preprocessing import LabelEncoder\n",
    "\n",
    "import joblib\n"
   ]
  },
  {
   "cell_type": "code",
   "execution_count": 4,
   "metadata": {},
   "outputs": [],
   "source": [
    "# Define the paths to the train and test CSV files\n",
    "train_file_path = 'train.csv'\n",
    "test_file_path = 'test.csv'\n",
    "\n",
    "# Load the train and test datasets\n",
    "train_df = pd.read_csv(train_file_path)\n",
    "test_df = pd.read_csv(test_file_path)\n",
    "\n",
    "# Lowercase all column names in the training dataset\n",
    "train_df.columns = [col.lower() for col in train_df.columns]\n",
    "\n",
    "# Lowercase all column names in the testing dataset\n",
    "test_df.columns = [col.lower() for col in test_df.columns]\n",
    "\n",
    "# Convert all entries in the DataFrames to strings\n",
    "train_df = train_df.astype(str)\n",
    "test_df = test_df.astype(str)"
   ]
  },
  {
   "cell_type": "code",
   "execution_count": 5,
   "metadata": {},
   "outputs": [],
   "source": [
    "# Encode the labels\n",
    "label_encoder = LabelEncoder()\n",
    "train_df['genre'] = label_encoder.fit_transform(train_df['genre'])\n",
    "test_df['genre'] = label_encoder.transform(test_df['genre'])"
   ]
  },
  {
   "cell_type": "code",
   "execution_count": 7,
   "metadata": {},
   "outputs": [
    {
     "name": "stdout",
     "output_type": "stream",
     "text": [
      "LabelEncoder saved to label_encoder.pkl\n"
     ]
    }
   ],
   "source": [
    "encoder_filename = 'label_encoder.pkl'\n",
    "joblib.dump(label_encoder, encoder_filename)\n",
    "print(f\"LabelEncoder saved to {encoder_filename}\")"
   ]
  }
 ],
 "metadata": {
  "kernelspec": {
   "display_name": "3.10.13",
   "language": "python",
   "name": "python3"
  },
  "language_info": {
   "codemirror_mode": {
    "name": "ipython",
    "version": 3
   },
   "file_extension": ".py",
   "mimetype": "text/x-python",
   "name": "python",
   "nbconvert_exporter": "python",
   "pygments_lexer": "ipython3",
   "version": "3.10.13"
  }
 },
 "nbformat": 4,
 "nbformat_minor": 2
}
